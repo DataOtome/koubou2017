{
 "cells": [
  {
   "cell_type": "markdown",
   "metadata": {},
   "source": [
    "１．3層NN"
   ]
  },
  {
   "cell_type": "code",
   "execution_count": 14,
   "metadata": {},
   "outputs": [
    {
     "name": "stdout",
     "output_type": "stream",
     "text": [
      "[ 0.31682708  0.69627909]\n"
     ]
    }
   ],
   "source": [
    "import numpy as np\n",
    "import math\n",
    "\n",
    "def init_network():\n",
    "    network={}\n",
    "    network['W1'] = np.array([[0.1, 0.3, 0.5], [0.2, 0.4, 0.6]])\n",
    "    network['b1'] = np.array([[0.1, 0.2, 0.3]])\n",
    "    network['W2'] = np.array([[0.1, 0.4], [0.2, 0.5], [0.3, 0.6]])\n",
    "    network['b2'] = np.array([[0.1, 0.2]])\n",
    "    network['W3'] = np.array([[0.1, 0.3], [0.2, 0.4]])\n",
    "    network['b3'] = np.array([[0.1, 0.2]])\n",
    "    return network\n",
    "\n",
    "def sigmoid(z):\n",
    "    return 1 / (1 + pow(math.e, -z))\n",
    "\n",
    "def forward(network, x):\n",
    "    for n in range(1, 4):\n",
    "        W=network['W' + str(n)]\n",
    "        b=network['b' + str(n)]\n",
    "        x=np.dot(x,W)+b\n",
    "        if n <3:\n",
    "            x = sigmoid(x)\n",
    "    return x[0]\n",
    "\n",
    "network = init_network()\n",
    "x=np.array([1.0,0.5])\n",
    "y=forward(network,x)\n",
    "print(y) #[0.31682708 0.69627909]"
   ]
  },
  {
   "cell_type": "markdown",
   "metadata": {},
   "source": [
    "２．バッチ処理\n",
    "どうしてランダムの輸入が最後に似た結果が出るのかよくわかりません"
   ]
  },
  {
   "cell_type": "code",
   "execution_count": 25,
   "metadata": {},
   "outputs": [
    {
     "name": "stdout",
     "output_type": "stream",
     "text": [
      "[ 0.31733734  0.69740153]\n",
      "[ 0.31501727  0.69223721]\n",
      "[ 0.31378321  0.68951199]\n",
      "[ 0.31442304  0.69093199]\n",
      "[ 0.3133686  0.6885832]\n",
      "[ 0.31826483  0.69947113]\n",
      "[ 0.31149495  0.68443859]\n",
      "[ 0.31072299  0.68271949]\n",
      "[ 0.30912288  0.67917597]\n",
      "[ 0.31324827  0.68831208]\n",
      "[ 0.31077696  0.68284078]\n",
      "[ 0.31418351  0.69040055]\n",
      "[ 0.31368656  0.6892881 ]\n",
      "[ 0.31494743  0.69210278]\n",
      "[ 0.31141995  0.68426352]\n",
      "[ 0.31691293  0.69646366]\n",
      "[ 0.3117488   0.68499641]\n",
      "[ 0.31593845  0.69430158]\n",
      "[ 0.31138068  0.68418194]\n",
      "[ 0.31550348  0.69332334]\n",
      "[ 0.3154228   0.69315444]\n",
      "[ 0.31376335  0.68946505]\n",
      "[ 0.31759276  0.69797815]\n",
      "[ 0.3143747   0.69083397]\n",
      "[ 0.31514613  0.69254633]\n",
      "[ 0.31620016  0.69487215]\n",
      "[ 0.31821577  0.69936307]\n",
      "[ 0.31147434  0.68439203]\n",
      "[ 0.31001871  0.68116223]\n",
      "[ 0.31093465  0.68319248]\n",
      "[ 0.31627931  0.69504743]\n",
      "[ 0.31537707  0.69305543]\n",
      "[ 0.31325004  0.68833661]\n",
      "[ 0.31053576  0.6823098 ]\n",
      "[ 0.31356342  0.68902044]\n",
      "[ 0.31789154  0.69863615]\n",
      "[ 0.30997052  0.68104815]\n",
      "[ 0.31712288  0.69693476]\n",
      "[ 0.31543664  0.69317806]\n",
      "[ 0.31510586  0.69245697]\n",
      "[ 0.31230908  0.68623666]\n",
      "[ 0.31716531  0.69702046]\n",
      "[ 0.31616967  0.69480275]\n",
      "[ 0.31572913  0.69383721]\n",
      "[ 0.31319776  0.68821431]\n",
      "[ 0.31367605  0.68927471]\n",
      "[ 0.31872883  0.70050208]\n",
      "[ 0.3127803   0.68727701]\n",
      "[ 0.31499057  0.69217815]\n",
      "[ 0.31599312  0.69441931]\n",
      "[ 0.30961772  0.68027069]\n",
      "[ 0.31656879  0.69570225]\n",
      "[ 0.3160957   0.69465413]\n",
      "[ 0.31662679  0.69582012]\n",
      "[ 0.31541283  0.69311802]\n",
      "[ 0.3089809   0.67885963]\n",
      "[ 0.31177033  0.6850418 ]\n",
      "[ 0.31112847  0.68361621]\n",
      "[ 0.31173337  0.68495646]\n",
      "[ 0.31181065  0.6851319 ]\n",
      "[ 0.31533488  0.69295991]\n",
      "[ 0.31672796  0.69605642]\n",
      "[ 0.31121498  0.68381472]\n"
     ]
    }
   ],
   "source": [
    "import numpy as np\n",
    "import random  \n",
    "\n",
    "def init_network():\n",
    "    network={}\n",
    "    network['W1'] = np.array([[0.1, 0.3, 0.5], [0.2, 0.4, 0.6]])\n",
    "    network['b1'] = np.array([[0.1, 0.2, 0.3]])\n",
    "    network['W2'] = np.array([[0.1, 0.4], [0.2, 0.5], [0.3, 0.6]])\n",
    "    network['b2'] = np.array([[0.1, 0.2]])\n",
    "    network['W3'] = np.array([[0.1, 0.3], [0.2, 0.4]])\n",
    "    network['b3'] = np.array([[0.1, 0.2]])\n",
    "    return network\n",
    "\n",
    "def sigmoid(z):\n",
    "    return 1 / (1 + pow(math.e, -z))\n",
    "\n",
    "def forward(network, x):\n",
    "    for n in range(1, 4):\n",
    "        W=network['W' + str(n)]\n",
    "        b=network['b' + str(n)]\n",
    "        x=np.dot(x,W)+b\n",
    "        #print('\\n', x)\n",
    "        if n <3:\n",
    "            x = sigmoid(x)\n",
    "    return x[0]\n",
    "\n",
    "network = init_network()\n",
    "batch_size = 16\n",
    "x=np.random.rand(1000,2)\n",
    "for i in range(0,len(x),batch_size):\n",
    "    x_batch = x[i:i+batch_size]\n",
    "    y_batch = forward(network,x_batch)\n",
    "    print(y_batch)\n",
    "    #print(x_batch, y_batch)"
   ]
  }
 ],
 "metadata": {
  "kernelspec": {
   "display_name": "Python 3",
   "language": "python",
   "name": "python3"
  },
  "language_info": {
   "codemirror_mode": {
    "name": "ipython",
    "version": 3
   },
   "file_extension": ".py",
   "mimetype": "text/x-python",
   "name": "python",
   "nbconvert_exporter": "python",
   "pygments_lexer": "ipython3",
   "version": "3.6.1"
  }
 },
 "nbformat": 4,
 "nbformat_minor": 2
}
