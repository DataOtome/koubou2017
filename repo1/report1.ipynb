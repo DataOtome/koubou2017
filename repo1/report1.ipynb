{
 "cells": [
  {
   "cell_type": "markdown",
   "metadata": {},
   "source": [
    "#xorが単純パーセプトロンに作られない理由\n",
    "\n",
    "パーセプトロンはそもそもは　１ｘｎのデータ　＊　ｎx１のweight　だけ。\n",
    "つまり得られた値はデータの値の線形組合。\n",
    "そしてその値がある仕切り値の右か左かで分類する。\n",
    "\n",
    "でもxorのとき\n",
    "[0,1]\\*\\[w1,w2]=w2　の値が [0,0]\\*\\[w1,w2]=0 　と　[1,1]*\\[w1,w2]=w1+w2 の間にいるのは不可能だ。\n",
    "よってxorは単純パーセプトロンに作られない\n",
    "\n"
   ]
  },
  {
   "cell_type": "code",
   "execution_count": 17,
   "metadata": {
    "collapsed": false
   },
   "outputs": [
    {
     "name": "stdout",
     "output_type": "stream",
     "text": [
      "AND(0, 0) -> 0\n",
      "AND(1, 0) -> 0\n",
      "AND(0, 1) -> 0\n",
      "AND(1, 1) -> 1\n",
      "NAND(0, 0) -> 1\n",
      "NAND(1, 0) -> 1\n",
      "NAND(0, 1) -> 1\n",
      "NAND(1, 1) -> 0\n",
      "OR(0, 0) -> 0\n",
      "OR(1, 0) -> 1\n",
      "OR(0, 1) -> 1\n",
      "OR(1, 1) -> 1\n",
      "XOR(0, 0) -> 0\n",
      "XOR(1, 0) -> 1\n",
      "XOR(0, 1) -> 1\n",
      "XOR(1, 1) -> 0\n"
     ]
    }
   ],
   "source": [
    "import numpy as np\n",
    "\n",
    "def AND(x1, x2):\n",
    "    x = np.array([x1, x2])\n",
    "    w = np.array([0.5, 0.5])\n",
    "    b = -0.7\n",
    "    y = np.sum(w*x) + b\n",
    "    return int(y > 0)\n",
    "\n",
    "def NAND(x1, x2):\n",
    "    x = np.array([x1, x2])\n",
    "    w = np.array([-0.5, -0.5])\n",
    "    b = 0.7\n",
    "    y = np.sum(w*x) + b\n",
    "    return int(y>0)\n",
    "    \n",
    "\n",
    "def OR(x1, x2):\n",
    "    x = np.array([x1, x2])\n",
    "    w = np.array([0.5, 0.5])\n",
    "    b = -0.2\n",
    "    y = np.sum(w*x) + b\n",
    "    return int(y > 0)\n",
    "\n",
    "def XOR(x1, x2): \n",
    "    return int(NAND(x1, x2) and OR(x1, x2))\n",
    "\n",
    "if __name__ == '__main__':\n",
    "    for name in ['AND', 'NAND', 'OR', 'XOR'] :\n",
    "        fun = eval(name)\n",
    "        \n",
    "        for xs in [(0, 0), (1, 0), (0, 1), (1, 1)]:\n",
    "            out = fun(xs[0], xs[1])\n",
    "        \n",
    "            print(name + str(xs) + \" -> \" + str(out))"
   ]
  }
 ],
 "metadata": {
  "kernelspec": {
   "display_name": "Python 3",
   "language": "python",
   "name": "python3"
  },
  "language_info": {
   "codemirror_mode": {
    "name": "ipython",
    "version": 3
   },
   "file_extension": ".py",
   "mimetype": "text/x-python",
   "name": "python",
   "nbconvert_exporter": "python",
   "pygments_lexer": "ipython3",
   "version": "3.6.0"
  }
 },
 "nbformat": 4,
 "nbformat_minor": 2
}
